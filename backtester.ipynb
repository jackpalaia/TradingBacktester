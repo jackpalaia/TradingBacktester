{
 "metadata": {
  "language_info": {
   "codemirror_mode": {
    "name": "ipython",
    "version": 3
   },
   "file_extension": ".py",
   "mimetype": "text/x-python",
   "name": "python",
   "nbconvert_exporter": "python",
   "pygments_lexer": "ipython3",
   "version": "3.8.2-final"
  },
  "orig_nbformat": 2,
  "kernelspec": {
   "name": "python_defaultSpec_1595002833462",
   "display_name": "Python 3.8.2 64-bit"
  }
 },
 "nbformat": 4,
 "nbformat_minor": 2,
 "cells": [
  {
   "cell_type": "code",
   "execution_count": 30,
   "metadata": {},
   "outputs": [],
   "source": [
    "from dotenv import load_dotenv; load_dotenv()\n",
    "from datetime import date\n",
    "import os\n",
    "import pandas_datareader.data as web"
   ]
  },
  {
   "cell_type": "code",
   "execution_count": 33,
   "metadata": {
    "tags": []
   },
   "outputs": [],
   "source": [
    "def get_prices(ticker, start, end):\n",
    "    start = date(start[0], start[1], start[2])\n",
    "    end = date(end[0], end[1], end[2])\n",
    "    api_key = os.getenv('AV_API_KEY')\n",
    "\n",
    "    prices = web.DataReader(ticker, 'av-daily', start, end, api_key)\n",
    "    print(prices)\n",
    "get_prices('AAPL', (2017, 2, 9), (2017, 2, 16))"
   ]
  },
  {
   "cell_type": "code",
   "execution_count": null,
   "metadata": {},
   "outputs": [],
   "source": []
  }
 ]
}