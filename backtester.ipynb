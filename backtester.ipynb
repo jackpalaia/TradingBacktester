{
 "metadata": {
  "language_info": {
   "codemirror_mode": {
    "name": "ipython",
    "version": 3
   },
   "file_extension": ".py",
   "mimetype": "text/x-python",
   "name": "python",
   "nbconvert_exporter": "python",
   "pygments_lexer": "ipython3",
   "version": "3.8.2-final"
  },
  "orig_nbformat": 2,
  "kernelspec": {
   "name": "python_defaultSpec_1595260780749",
   "display_name": "Python 3.8.2 64-bit"
  }
 },
 "nbformat": 4,
 "nbformat_minor": 2,
 "cells": [
  {
   "cell_type": "code",
   "execution_count": null,
   "metadata": {},
   "outputs": [],
   "source": [
    "from dotenv import load_dotenv; load_dotenv()\n",
    "import datetime as dt\n",
    "from datetime import datetime\n",
    "import requests_cache\n",
    "import os\n",
    "import pandas_datareader.data as web\n",
    "import pandas as pd"
   ]
  },
  {
   "cell_type": "code",
   "execution_count": null,
   "metadata": {
    "tags": []
   },
   "outputs": [],
   "source": [
    "def get_prices(ticker, start, end):\n",
    "    '''returns dataframe of adjusted close prices of specified ticker from start to end date'''\n",
    "    start = datetime(start[0], start[1], start[2])\n",
    "    end = datetime(end[0], end[1], end[2])\n",
    "    api_key = os.getenv('ALPHAVANTAGE_API_KEY')\n",
    "    session = requests_cache.CachedSession()\n",
    "\n",
    "    prices = web.DataReader(ticker, 'av-daily-adjusted', start, end, api_key=api_key, session=session)\n",
    "    prices = prices[['close']]\n",
    "    prices.columns = [ticker]\n",
    "\n",
    "    return prices"
   ]
  },
  {
   "cell_type": "code",
   "execution_count": null,
   "metadata": {},
   "outputs": [],
   "source": [
    "def get_all_prices(tickers, start, end):\n",
    "    '''returns dataframe containing adjusted close prices of all specified tickers'''\n",
    "    prices = []\n",
    "    for ticker in tickers:\n",
    "        prices.append(get_prices(ticker, start, end))\n",
    "    return pd.concat(prices, axis=1)"
   ]
  },
  {
   "cell_type": "code",
   "execution_count": null,
   "metadata": {},
   "outputs": [],
   "source": [
    "def get_n_day_returns(prices, n=1):\n",
    "    '''takes in prices df and n and returns n-day forward return df'''\n",
    "    returns = (prices.shift(-n) / prices) - 1\n",
    "    returns = returns[:-n]\n",
    "    return returns"
   ]
  },
  {
   "cell_type": "code",
   "execution_count": null,
   "metadata": {},
   "outputs": [],
   "source": [
    "def get_signal_data(file_name, s, e):\n",
    "    '''takes in file name, start, end dates as tuples and returns df containing signal data'''\n",
    "    data = pd.read_csv(file_name, index_col='date')\n",
    "    start = dt.datetime(s[0], s[1], s[2])\n",
    "    end = dt.datetime(e[0], e[1], e[2])\n",
    "    data.index = pd.to_datetime(data.index)\n",
    "    data = data.loc[start:end]\n",
    "    return data\n"
   ]
  },
  {
   "cell_type": "code",
   "execution_count": null,
   "metadata": {},
   "outputs": [],
   "source": [
    "def generate_rsi_data(prices, period=14):\n",
    "    '''creates rsi df using price df given and specified period length'''\n",
    "    # i think this is accurate?\n",
    "    # look at tradingview implementation of rsi later\n",
    "    data = prices.copy()\n",
    "    data = data.diff()\n",
    "    data = data[1:]\n",
    "    up = data.copy()\n",
    "    down = data.copy()\n",
    "    up[up < 0] = 0\n",
    "    down[down > 0] = 0\n",
    "    roll_up = up.rolling(period).mean()\n",
    "    roll_down = down.abs().rolling(period).mean()\n",
    "    rs = roll_up / roll_down\n",
    "    rsi = 100.0 - (100.0 / (1.0 + rs))\n",
    "    return rsi"
   ]
  },
  {
   "cell_type": "code",
   "execution_count": null,
   "metadata": {},
   "outputs": [],
   "source": [
    "def plot_backtest()"
   ]
  },
  {
   "cell_type": "code",
   "execution_count": null,
   "metadata": {
    "tags": []
   },
   "outputs": [],
   "source": [
    "# testing stuff\n",
    "tickers = ['MMM', 'AMZN', 'GOOG', 'V', 'JPM']\n",
    "start = (2015, 1, 5)\n",
    "end = (2015, 2, 5)\n",
    "quantiles = 10\n",
    "prices = get_all_prices(tickers, start, end)\n",
    "returns = get_n_day_returns(prices)\n",
    "get_prices('SPY', start, end)"
   ]
  },
  {
   "cell_type": "code",
   "execution_count": null,
   "metadata": {},
   "outputs": [],
   "source": []
  }
 ]
}