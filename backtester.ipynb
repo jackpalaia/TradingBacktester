{
 "metadata": {
  "language_info": {
   "codemirror_mode": {
    "name": "ipython",
    "version": 3
   },
   "file_extension": ".py",
   "mimetype": "text/x-python",
   "name": "python",
   "nbconvert_exporter": "python",
   "pygments_lexer": "ipython3",
   "version": "3.8.2-final"
  },
  "orig_nbformat": 2,
  "kernelspec": {
   "name": "python_defaultSpec_1595087015972",
   "display_name": "Python 3.8.2 64-bit"
  }
 },
 "nbformat": 4,
 "nbformat_minor": 2,
 "cells": [
  {
   "cell_type": "code",
   "execution_count": 137,
   "metadata": {},
   "outputs": [],
   "source": [
    "from dotenv import load_dotenv; load_dotenv()\n",
    "from datetime import datetime\n",
    "import requests_cache\n",
    "import os\n",
    "import pandas_datareader.data as web\n",
    "import pandas as pd"
   ]
  },
  {
   "cell_type": "code",
   "execution_count": 138,
   "metadata": {
    "tags": []
   },
   "outputs": [],
   "source": [
    "def get_prices(ticker, start, end):\n",
    "    '''returns dataframe of adjusted close prices of specified ticker from start to end date'''\n",
    "    start = datetime(start[0], start[1], start[2])\n",
    "    end = datetime(end[0], end[1], end[2])\n",
    "    api_key = os.getenv('ALPHAVANTAGE_API_KEY')\n",
    "    session = requests_cache.CachedSession()\n",
    "\n",
    "    prices = web.DataReader(ticker, 'av-daily-adjusted', start, end, api_key=api_key, session=session)\n",
    "    prices = prices[['adjusted close']]\n",
    "    prices.columns = [ticker]\n",
    "\n",
    "    return prices"
   ]
  },
  {
   "cell_type": "code",
   "execution_count": 139,
   "metadata": {},
   "outputs": [],
   "source": [
    "def get_all_prices(tickers, start, end):\n",
    "    '''returns dataframe containing adjusted close prices of all specified tickers'''\n",
    "    prices = []\n",
    "    for ticker in tickers:\n",
    "        prices.append(get_prices(ticker, start, end))\n",
    "    return pd.concat(prices, axis=1)"
   ]
  },
  {
   "cell_type": "code",
   "execution_count": 140,
   "metadata": {},
   "outputs": [],
   "source": [
    "def get_n_day_returns(prices, n=1):\n",
    "    returns = (prices.shift(-n) / prices) - 1\n",
    "    returns = returns[:-n]\n",
    "    return returns"
   ]
  },
  {
   "cell_type": "code",
   "execution_count": 141,
   "metadata": {
    "tags": []
   },
   "outputs": [
    {
     "output_type": "execute_result",
     "data": {
      "text/plain": "(                AAPL    AMZN    GOOG        V      JPM\n 2017-02-09  126.3876  821.36  809.56  83.6260  79.1495\n 2017-02-10  126.1013  827.46  813.67  83.9387  78.9679\n 2017-02-13  127.2180  836.53  819.24  84.4664  80.0117\n 2017-02-14  128.8692  836.39  820.45  84.8670  81.2916\n 2017-02-15  129.3369  842.70  818.98  85.7025  82.2265\n 2017-02-16  129.1794  844.14  824.16  85.5752  82.1720,\n                 AAPL      AMZN      GOOG         V       JPM\n 2017-02-09  0.006570  0.018469  0.011957  0.010050  0.010893\n 2017-02-10  0.021950  0.010792  0.008333  0.011059  0.029426\n 2017-02-13  0.016656  0.007376 -0.000317  0.014634  0.027681\n 2017-02-14  0.002407  0.009266  0.004522  0.008345  0.010830)"
     },
     "metadata": {},
     "execution_count": 141
    }
   ],
   "source": [
    "# testing stuff\n",
    "tickers = ['AAPL', 'AMZN', 'GOOG', 'V', 'JPM']\n",
    "start = (2017, 2, 9)\n",
    "end = (2017, 2, 16)\n",
    "prices = get_all_prices(tickers, start, end)\n",
    "returns = get_n_day_returns(prices, 2)\n",
    "prices,returns"
   ]
  }
 ]
}